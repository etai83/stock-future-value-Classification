{
 "cells": [
  {
   "cell_type": "code",
   "execution_count": 215,
   "metadata": {
    "collapsed": false
   },
   "outputs": [],
   "source": [
    "import numpy as np\n",
    "import matplotlib.pyplot as plt\n",
    "import pandas as pd\n",
    "from pandas import datetime\n",
    "import math, time\n",
    "import itertools\n",
    "from sklearn import preprocessing\n",
    "import datetime\n",
    "from operator import itemgetter\n",
    "from sklearn.metrics import mean_squared_error\n",
    "from sklearn.metrics import confusion_matrix\n",
    "from sklearn.metrics import accuracy_score\n",
    "from math import sqrt\n",
    "from keras.models import Sequential\n",
    "from keras.layers.core import Dense, Dropout, Activation\n",
    "from keras.layers.recurrent import LSTM\n",
    "from keras.layers.advanced_activations import LeakyReLU\n",
    "from keras.layers.normalization import BatchNormalization\n",
    "from sklearn.cross_validation import train_test_split\n",
    "from sklearn.ensemble import GradientBoostingClassifier  #GBM algorithm\n",
    "from sklearn.grid_search import GridSearchCV   #Perforing grid search"
   ]
  },
  {
   "cell_type": "code",
   "execution_count": 216,
   "metadata": {
    "collapsed": true
   },
   "outputs": [],
   "source": [
    "def get_stock_data(stock_name, normalized=0):\n",
    "    \n",
    "#     url=\"http://www.google.com/finance/historical?q=%s&ei=u-lHWfGPNNWIsgHHqIqICw&output=csv\" % stock_name \n",
    "    url=\"http://www.google.com/finance/historical?q=\"+stock_name+\"&startdate=Aug+03%2C+2015&enddate=Aug+02%2C+2017&num=30&ei=d7d4WbrtDYq1swH0mp-4CA&output=csv\" \n",
    "#     print(url)\n",
    "    col_names = ['Date','Open','High','Low','Close','Volume']\n",
    "    stock = pd.read_csv(url, header=0, names=col_names) \n",
    "    df = pd.DataFrame(stock)\n",
    "\n",
    "    df[\"Volume\"] = df[\"Volume\"] / 10000\n",
    "#     df.drop(df.columns[[3,5]], axis=1, inplace=True) \n",
    "    return df\n",
    "\n",
    "\n",
    "def shift(seq, n):\n",
    "    n = n % len(seq)\n",
    "    return seq[n:] + seq[:n] \n",
    "\n",
    "def get_rsi_timeseries(prices, n=14):\n",
    "    deltas = (prices-prices.shift(1)).fillna(0)\n",
    "    avg_of_gains = deltas[1:n+1][deltas > 0].sum() / n\n",
    "    avg_of_losses = -deltas[1:n+1][deltas < 0].sum() / n\n",
    "\n",
    "    # Set up pd.Series container for RSI values\n",
    "    rsi_series = pd.Series(0.0, deltas.index)\n",
    "\n",
    "    # Now calculate RSI using the Wilder smoothing method, starting with n+1 delta.\n",
    "    up = lambda x: x if x > 0 else 0\n",
    "    down = lambda x: -x if x < 0 else 0\n",
    "    i = n+1\n",
    "    for d in deltas[n+1:]:\n",
    "        avg_of_gains = ((avg_of_gains * (n-1)) + up(d)) / n\n",
    "        avg_of_losses = ((avg_of_losses * (n-1)) + down(d)) / n\n",
    "        if avg_of_losses != 0:\n",
    "            rs = avg_of_gains / avg_of_losses\n",
    "            rsi_series[i] = 100 - (100 / (1 + rs))\n",
    "        else:\n",
    "            rsi_series[i] = 100\n",
    "        i += 1\n",
    "\n",
    "    return rsi_series\n",
    "\n",
    "def get_stock_data_analysis(stock_df):  \n",
    "    first_ma = 12\n",
    "    second_ma = 26\n",
    "    stock_df = stock_df[::-1]\n",
    "    data = [round(x,6) for x in stock_df[\"Close\"]]\n",
    "    \n",
    "    new_df = pd.DataFrame(stock_df[\"Date\"])\n",
    "    new_df[\"Close\"] = data\n",
    "    \n",
    "    new_df[\"C_1\"] = shift(data,-1)\n",
    "    new_df[\"C_2\"] = shift(data,-2)\n",
    "    new_df[\"C_3\"] = shift(data,-3)\n",
    "    new_df[\"C_4\"] = shift(data,-4)\n",
    "    new_df[\"C_5\"] = shift(data,-5)\n",
    "    new_df[\"C_6\"] = shift(data,-6)\n",
    "    new_df[\"C_7\"] = shift(data,-7)\n",
    "    new_df[\"C_8\"] = shift(data,-8)\n",
    "    new_df[\"C_9\"] = shift(data,-9)\n",
    "    new_df[\"C_10\"] = shift(data,-10)\n",
    "    \n",
    "#     new_df[\"C1_pct\"] =  round(new_df[\"Close\"] / new_df[\"C_1\"],6)\n",
    "#     new_df[\"C2_pct\"] =  round(new_df[\"C_1\"] / new_df[\"C_2\"],6)\n",
    "#     new_df[\"C3_pct\"] =  round(new_df[\"C_2\"] / new_df[\"C_3\"],6)\n",
    "#     new_df[\"low_high_ratio\"] = round(new_df[\"High\"] / new_df[\"Low\"],6)    \n",
    "#     new_df[\"open_close_ratio\"] = round(new_df[\"Close\"] / new_df[\"Open\"],6)\n",
    "#     new_df[\"ma_ratio\"] = round(new_df[\"Close\"].rolling(window=first_ma).mean() / new_df[\"Close\"].rolling(window=second_ma).mean(),6)\n",
    "    \n",
    "    ##############################\n",
    "    \n",
    "    first_ma_name = \"ma%s\" % first_ma\n",
    "    second_ma_name = \"ma%s\" % second_ma\n",
    "#     ma_relations = first_ma_name +\"_\"+ second_ma_name\n",
    "    \n",
    "#     new_df[ma_relations] = np.where(new_df[\"Close\"].rolling(window=first_ma).mean() > new_df[\"Close\"].rolling(window=second_ma).mean(),1,-1)\n",
    "#     new_df[\"ma_change\"] = round(new_df[ma_relations] - new_df[ma_relations].rolling(window=2).mean(),6)\n",
    "    \n",
    "    ##############################\n",
    "    \n",
    "#     new_df['ave'], new_df['upper'], new_df['lower'] = bbands(new_df[\"Close\"], length=n, numsd=1)\n",
    "#     new_df[\"dd\"] = dd(stock_df[\"Close\"],5)\n",
    "#     new_df[\"max_dd\"] = max_dd(stock_df[\"Close\"])\n",
    "#     new_df[\"RSI\"] = round(get_rsi_timeseries(stock_df[\"Close\"]),6)\n",
    "    a = np.array(new_df)\n",
    "#     new_df[\"RSI\"] = a[:,new_df.columns.get_loc(\"RSI\")][::-1]\n",
    "#     new_df = new_df[::-1]\n",
    "    new_df[\"Open\"] = stock_df[\"Open\"]    \n",
    "    new_df[\"High\"] = stock_df[\"High\"]\n",
    "    new_df[\"Volume\"] = stock_df[\"Volume\"]\n",
    "\n",
    "    \n",
    "    new_df = new_df[::-1]\n",
    "    return new_df"
   ]
  },
  {
   "cell_type": "code",
   "execution_count": 217,
   "metadata": {
    "collapsed": false,
    "scrolled": true
   },
   "outputs": [
    {
     "data": {
      "text/html": [
       "<div>\n",
       "<table border=\"1\" class=\"dataframe\">\n",
       "  <thead>\n",
       "    <tr style=\"text-align: right;\">\n",
       "      <th></th>\n",
       "      <th>Date</th>\n",
       "      <th>Open</th>\n",
       "      <th>High</th>\n",
       "      <th>Low</th>\n",
       "      <th>Close</th>\n",
       "      <th>Volume</th>\n",
       "    </tr>\n",
       "  </thead>\n",
       "  <tbody>\n",
       "    <tr>\n",
       "      <th>0</th>\n",
       "      <td>2-Aug-17</td>\n",
       "      <td>1.25</td>\n",
       "      <td>1.30</td>\n",
       "      <td>1.21</td>\n",
       "      <td>1.22</td>\n",
       "      <td>23.4557</td>\n",
       "    </tr>\n",
       "    <tr>\n",
       "      <th>1</th>\n",
       "      <td>1-Aug-17</td>\n",
       "      <td>1.29</td>\n",
       "      <td>1.30</td>\n",
       "      <td>1.20</td>\n",
       "      <td>1.26</td>\n",
       "      <td>30.0567</td>\n",
       "    </tr>\n",
       "    <tr>\n",
       "      <th>2</th>\n",
       "      <td>31-Jul-17</td>\n",
       "      <td>1.30</td>\n",
       "      <td>1.32</td>\n",
       "      <td>1.25</td>\n",
       "      <td>1.30</td>\n",
       "      <td>31.1901</td>\n",
       "    </tr>\n",
       "    <tr>\n",
       "      <th>3</th>\n",
       "      <td>28-Jul-17</td>\n",
       "      <td>1.30</td>\n",
       "      <td>1.35</td>\n",
       "      <td>1.27</td>\n",
       "      <td>1.30</td>\n",
       "      <td>35.0260</td>\n",
       "    </tr>\n",
       "    <tr>\n",
       "      <th>4</th>\n",
       "      <td>27-Jul-17</td>\n",
       "      <td>1.42</td>\n",
       "      <td>1.44</td>\n",
       "      <td>1.32</td>\n",
       "      <td>1.33</td>\n",
       "      <td>43.4994</td>\n",
       "    </tr>\n",
       "  </tbody>\n",
       "</table>\n",
       "</div>"
      ],
      "text/plain": [
       "        Date  Open  High   Low  Close   Volume\n",
       "0   2-Aug-17  1.25  1.30  1.21   1.22  23.4557\n",
       "1   1-Aug-17  1.29  1.30  1.20   1.26  30.0567\n",
       "2  31-Jul-17  1.30  1.32  1.25   1.30  31.1901\n",
       "3  28-Jul-17  1.30  1.35  1.27   1.30  35.0260\n",
       "4  27-Jul-17  1.42  1.44  1.32   1.33  43.4994"
      ]
     },
     "execution_count": 217,
     "metadata": {},
     "output_type": "execute_result"
    }
   ],
   "source": [
    "stock_name = 'BLPH'\n",
    "df_full = get_stock_data(stock_name,0)\n",
    "df_full.head()"
   ]
  },
  {
   "cell_type": "code",
   "execution_count": 218,
   "metadata": {
    "collapsed": false
   },
   "outputs": [
    {
     "data": {
      "text/html": [
       "<div>\n",
       "<table border=\"1\" class=\"dataframe\">\n",
       "  <thead>\n",
       "    <tr style=\"text-align: right;\">\n",
       "      <th></th>\n",
       "      <th>Date</th>\n",
       "      <th>Close</th>\n",
       "      <th>C_1</th>\n",
       "      <th>C_2</th>\n",
       "      <th>C_3</th>\n",
       "      <th>C_4</th>\n",
       "      <th>C_5</th>\n",
       "      <th>C_6</th>\n",
       "      <th>C_7</th>\n",
       "      <th>C_8</th>\n",
       "      <th>C_9</th>\n",
       "      <th>C_10</th>\n",
       "      <th>Open</th>\n",
       "      <th>High</th>\n",
       "      <th>Volume</th>\n",
       "    </tr>\n",
       "  </thead>\n",
       "  <tbody>\n",
       "    <tr>\n",
       "      <th>0</th>\n",
       "      <td>2-Aug-17</td>\n",
       "      <td>1.22</td>\n",
       "      <td>1.26</td>\n",
       "      <td>1.30</td>\n",
       "      <td>1.30</td>\n",
       "      <td>1.33</td>\n",
       "      <td>1.43</td>\n",
       "      <td>1.39</td>\n",
       "      <td>1.48</td>\n",
       "      <td>1.51</td>\n",
       "      <td>1.53</td>\n",
       "      <td>1.54</td>\n",
       "      <td>1.25</td>\n",
       "      <td>1.30</td>\n",
       "      <td>23.4557</td>\n",
       "    </tr>\n",
       "    <tr>\n",
       "      <th>1</th>\n",
       "      <td>1-Aug-17</td>\n",
       "      <td>1.26</td>\n",
       "      <td>1.30</td>\n",
       "      <td>1.30</td>\n",
       "      <td>1.33</td>\n",
       "      <td>1.43</td>\n",
       "      <td>1.39</td>\n",
       "      <td>1.48</td>\n",
       "      <td>1.51</td>\n",
       "      <td>1.53</td>\n",
       "      <td>1.54</td>\n",
       "      <td>1.50</td>\n",
       "      <td>1.29</td>\n",
       "      <td>1.30</td>\n",
       "      <td>30.0567</td>\n",
       "    </tr>\n",
       "    <tr>\n",
       "      <th>2</th>\n",
       "      <td>31-Jul-17</td>\n",
       "      <td>1.30</td>\n",
       "      <td>1.30</td>\n",
       "      <td>1.33</td>\n",
       "      <td>1.43</td>\n",
       "      <td>1.39</td>\n",
       "      <td>1.48</td>\n",
       "      <td>1.51</td>\n",
       "      <td>1.53</td>\n",
       "      <td>1.54</td>\n",
       "      <td>1.50</td>\n",
       "      <td>1.56</td>\n",
       "      <td>1.30</td>\n",
       "      <td>1.32</td>\n",
       "      <td>31.1901</td>\n",
       "    </tr>\n",
       "    <tr>\n",
       "      <th>3</th>\n",
       "      <td>28-Jul-17</td>\n",
       "      <td>1.30</td>\n",
       "      <td>1.33</td>\n",
       "      <td>1.43</td>\n",
       "      <td>1.39</td>\n",
       "      <td>1.48</td>\n",
       "      <td>1.51</td>\n",
       "      <td>1.53</td>\n",
       "      <td>1.54</td>\n",
       "      <td>1.50</td>\n",
       "      <td>1.56</td>\n",
       "      <td>1.47</td>\n",
       "      <td>1.30</td>\n",
       "      <td>1.35</td>\n",
       "      <td>35.0260</td>\n",
       "    </tr>\n",
       "    <tr>\n",
       "      <th>4</th>\n",
       "      <td>27-Jul-17</td>\n",
       "      <td>1.33</td>\n",
       "      <td>1.43</td>\n",
       "      <td>1.39</td>\n",
       "      <td>1.48</td>\n",
       "      <td>1.51</td>\n",
       "      <td>1.53</td>\n",
       "      <td>1.54</td>\n",
       "      <td>1.50</td>\n",
       "      <td>1.56</td>\n",
       "      <td>1.47</td>\n",
       "      <td>1.42</td>\n",
       "      <td>1.42</td>\n",
       "      <td>1.44</td>\n",
       "      <td>43.4994</td>\n",
       "    </tr>\n",
       "  </tbody>\n",
       "</table>\n",
       "</div>"
      ],
      "text/plain": [
       "        Date  Close   C_1   C_2   C_3   C_4   C_5   C_6   C_7   C_8   C_9  \\\n",
       "0   2-Aug-17   1.22  1.26  1.30  1.30  1.33  1.43  1.39  1.48  1.51  1.53   \n",
       "1   1-Aug-17   1.26  1.30  1.30  1.33  1.43  1.39  1.48  1.51  1.53  1.54   \n",
       "2  31-Jul-17   1.30  1.30  1.33  1.43  1.39  1.48  1.51  1.53  1.54  1.50   \n",
       "3  28-Jul-17   1.30  1.33  1.43  1.39  1.48  1.51  1.53  1.54  1.50  1.56   \n",
       "4  27-Jul-17   1.33  1.43  1.39  1.48  1.51  1.53  1.54  1.50  1.56  1.47   \n",
       "\n",
       "   C_10  Open  High   Volume  \n",
       "0  1.54  1.25  1.30  23.4557  \n",
       "1  1.50  1.29  1.30  30.0567  \n",
       "2  1.56  1.30  1.32  31.1901  \n",
       "3  1.47  1.30  1.35  35.0260  \n",
       "4  1.42  1.42  1.44  43.4994  "
      ]
     },
     "execution_count": 218,
     "metadata": {},
     "output_type": "execute_result"
    }
   ],
   "source": [
    "df = get_stock_data_analysis(df_full)\n",
    "df.head()"
   ]
  },
  {
   "cell_type": "code",
   "execution_count": 219,
   "metadata": {
    "collapsed": false
   },
   "outputs": [
    {
     "data": {
      "text/html": [
       "<div>\n",
       "<table border=\"1\" class=\"dataframe\">\n",
       "  <thead>\n",
       "    <tr style=\"text-align: right;\">\n",
       "      <th></th>\n",
       "      <th>Date</th>\n",
       "      <th>Close</th>\n",
       "      <th>C_1</th>\n",
       "      <th>C_2</th>\n",
       "      <th>C_3</th>\n",
       "      <th>C_4</th>\n",
       "      <th>C_5</th>\n",
       "      <th>C_6</th>\n",
       "      <th>C_7</th>\n",
       "      <th>C_8</th>\n",
       "      <th>C_9</th>\n",
       "      <th>C_10</th>\n",
       "      <th>Open</th>\n",
       "      <th>High</th>\n",
       "      <th>Volume</th>\n",
       "      <th>Close_shift</th>\n",
       "      <th>Shift_ratio</th>\n",
       "      <th>Result</th>\n",
       "    </tr>\n",
       "  </thead>\n",
       "  <tbody>\n",
       "    <tr>\n",
       "      <th>0</th>\n",
       "      <td>2-Aug-17</td>\n",
       "      <td>1.22</td>\n",
       "      <td>1.26</td>\n",
       "      <td>1.30</td>\n",
       "      <td>1.30</td>\n",
       "      <td>1.33</td>\n",
       "      <td>1.43</td>\n",
       "      <td>1.39</td>\n",
       "      <td>1.48</td>\n",
       "      <td>1.51</td>\n",
       "      <td>1.53</td>\n",
       "      <td>1.54</td>\n",
       "      <td>1.25</td>\n",
       "      <td>1.30</td>\n",
       "      <td>23.4557</td>\n",
       "      <td>0.00</td>\n",
       "      <td>0.00000</td>\n",
       "      <td>0</td>\n",
       "    </tr>\n",
       "    <tr>\n",
       "      <th>1</th>\n",
       "      <td>1-Aug-17</td>\n",
       "      <td>1.26</td>\n",
       "      <td>1.30</td>\n",
       "      <td>1.30</td>\n",
       "      <td>1.33</td>\n",
       "      <td>1.43</td>\n",
       "      <td>1.39</td>\n",
       "      <td>1.48</td>\n",
       "      <td>1.51</td>\n",
       "      <td>1.53</td>\n",
       "      <td>1.54</td>\n",
       "      <td>1.50</td>\n",
       "      <td>1.29</td>\n",
       "      <td>1.30</td>\n",
       "      <td>30.0567</td>\n",
       "      <td>1.22</td>\n",
       "      <td>1.03279</td>\n",
       "      <td>1</td>\n",
       "    </tr>\n",
       "    <tr>\n",
       "      <th>2</th>\n",
       "      <td>31-Jul-17</td>\n",
       "      <td>1.30</td>\n",
       "      <td>1.30</td>\n",
       "      <td>1.33</td>\n",
       "      <td>1.43</td>\n",
       "      <td>1.39</td>\n",
       "      <td>1.48</td>\n",
       "      <td>1.51</td>\n",
       "      <td>1.53</td>\n",
       "      <td>1.54</td>\n",
       "      <td>1.50</td>\n",
       "      <td>1.56</td>\n",
       "      <td>1.30</td>\n",
       "      <td>1.32</td>\n",
       "      <td>31.1901</td>\n",
       "      <td>1.26</td>\n",
       "      <td>1.03175</td>\n",
       "      <td>1</td>\n",
       "    </tr>\n",
       "    <tr>\n",
       "      <th>3</th>\n",
       "      <td>28-Jul-17</td>\n",
       "      <td>1.30</td>\n",
       "      <td>1.33</td>\n",
       "      <td>1.43</td>\n",
       "      <td>1.39</td>\n",
       "      <td>1.48</td>\n",
       "      <td>1.51</td>\n",
       "      <td>1.53</td>\n",
       "      <td>1.54</td>\n",
       "      <td>1.50</td>\n",
       "      <td>1.56</td>\n",
       "      <td>1.47</td>\n",
       "      <td>1.30</td>\n",
       "      <td>1.35</td>\n",
       "      <td>35.0260</td>\n",
       "      <td>1.30</td>\n",
       "      <td>1.00000</td>\n",
       "      <td>0</td>\n",
       "    </tr>\n",
       "    <tr>\n",
       "      <th>4</th>\n",
       "      <td>27-Jul-17</td>\n",
       "      <td>1.33</td>\n",
       "      <td>1.43</td>\n",
       "      <td>1.39</td>\n",
       "      <td>1.48</td>\n",
       "      <td>1.51</td>\n",
       "      <td>1.53</td>\n",
       "      <td>1.54</td>\n",
       "      <td>1.50</td>\n",
       "      <td>1.56</td>\n",
       "      <td>1.47</td>\n",
       "      <td>1.42</td>\n",
       "      <td>1.42</td>\n",
       "      <td>1.44</td>\n",
       "      <td>43.4994</td>\n",
       "      <td>1.30</td>\n",
       "      <td>1.02308</td>\n",
       "      <td>1</td>\n",
       "    </tr>\n",
       "    <tr>\n",
       "      <th>5</th>\n",
       "      <td>26-Jul-17</td>\n",
       "      <td>1.43</td>\n",
       "      <td>1.39</td>\n",
       "      <td>1.48</td>\n",
       "      <td>1.51</td>\n",
       "      <td>1.53</td>\n",
       "      <td>1.54</td>\n",
       "      <td>1.50</td>\n",
       "      <td>1.56</td>\n",
       "      <td>1.47</td>\n",
       "      <td>1.42</td>\n",
       "      <td>1.41</td>\n",
       "      <td>1.39</td>\n",
       "      <td>1.44</td>\n",
       "      <td>14.4370</td>\n",
       "      <td>1.33</td>\n",
       "      <td>1.07519</td>\n",
       "      <td>1</td>\n",
       "    </tr>\n",
       "    <tr>\n",
       "      <th>6</th>\n",
       "      <td>25-Jul-17</td>\n",
       "      <td>1.39</td>\n",
       "      <td>1.48</td>\n",
       "      <td>1.51</td>\n",
       "      <td>1.53</td>\n",
       "      <td>1.54</td>\n",
       "      <td>1.50</td>\n",
       "      <td>1.56</td>\n",
       "      <td>1.47</td>\n",
       "      <td>1.42</td>\n",
       "      <td>1.41</td>\n",
       "      <td>1.42</td>\n",
       "      <td>1.48</td>\n",
       "      <td>1.51</td>\n",
       "      <td>34.4835</td>\n",
       "      <td>1.43</td>\n",
       "      <td>0.97203</td>\n",
       "      <td>0</td>\n",
       "    </tr>\n",
       "    <tr>\n",
       "      <th>7</th>\n",
       "      <td>24-Jul-17</td>\n",
       "      <td>1.48</td>\n",
       "      <td>1.51</td>\n",
       "      <td>1.53</td>\n",
       "      <td>1.54</td>\n",
       "      <td>1.50</td>\n",
       "      <td>1.56</td>\n",
       "      <td>1.47</td>\n",
       "      <td>1.42</td>\n",
       "      <td>1.41</td>\n",
       "      <td>1.42</td>\n",
       "      <td>1.42</td>\n",
       "      <td>1.51</td>\n",
       "      <td>1.52</td>\n",
       "      <td>13.5308</td>\n",
       "      <td>1.39</td>\n",
       "      <td>1.06475</td>\n",
       "      <td>1</td>\n",
       "    </tr>\n",
       "    <tr>\n",
       "      <th>8</th>\n",
       "      <td>21-Jul-17</td>\n",
       "      <td>1.51</td>\n",
       "      <td>1.53</td>\n",
       "      <td>1.54</td>\n",
       "      <td>1.50</td>\n",
       "      <td>1.56</td>\n",
       "      <td>1.47</td>\n",
       "      <td>1.42</td>\n",
       "      <td>1.41</td>\n",
       "      <td>1.42</td>\n",
       "      <td>1.42</td>\n",
       "      <td>1.45</td>\n",
       "      <td>1.53</td>\n",
       "      <td>1.54</td>\n",
       "      <td>22.8243</td>\n",
       "      <td>1.48</td>\n",
       "      <td>1.02027</td>\n",
       "      <td>1</td>\n",
       "    </tr>\n",
       "    <tr>\n",
       "      <th>9</th>\n",
       "      <td>20-Jul-17</td>\n",
       "      <td>1.53</td>\n",
       "      <td>1.54</td>\n",
       "      <td>1.50</td>\n",
       "      <td>1.56</td>\n",
       "      <td>1.47</td>\n",
       "      <td>1.42</td>\n",
       "      <td>1.41</td>\n",
       "      <td>1.42</td>\n",
       "      <td>1.42</td>\n",
       "      <td>1.45</td>\n",
       "      <td>1.35</td>\n",
       "      <td>1.53</td>\n",
       "      <td>1.58</td>\n",
       "      <td>27.3972</td>\n",
       "      <td>1.51</td>\n",
       "      <td>1.01325</td>\n",
       "      <td>1</td>\n",
       "    </tr>\n",
       "  </tbody>\n",
       "</table>\n",
       "</div>"
      ],
      "text/plain": [
       "        Date  Close   C_1   C_2   C_3   C_4   C_5   C_6   C_7   C_8   C_9  \\\n",
       "0   2-Aug-17   1.22  1.26  1.30  1.30  1.33  1.43  1.39  1.48  1.51  1.53   \n",
       "1   1-Aug-17   1.26  1.30  1.30  1.33  1.43  1.39  1.48  1.51  1.53  1.54   \n",
       "2  31-Jul-17   1.30  1.30  1.33  1.43  1.39  1.48  1.51  1.53  1.54  1.50   \n",
       "3  28-Jul-17   1.30  1.33  1.43  1.39  1.48  1.51  1.53  1.54  1.50  1.56   \n",
       "4  27-Jul-17   1.33  1.43  1.39  1.48  1.51  1.53  1.54  1.50  1.56  1.47   \n",
       "5  26-Jul-17   1.43  1.39  1.48  1.51  1.53  1.54  1.50  1.56  1.47  1.42   \n",
       "6  25-Jul-17   1.39  1.48  1.51  1.53  1.54  1.50  1.56  1.47  1.42  1.41   \n",
       "7  24-Jul-17   1.48  1.51  1.53  1.54  1.50  1.56  1.47  1.42  1.41  1.42   \n",
       "8  21-Jul-17   1.51  1.53  1.54  1.50  1.56  1.47  1.42  1.41  1.42  1.42   \n",
       "9  20-Jul-17   1.53  1.54  1.50  1.56  1.47  1.42  1.41  1.42  1.42  1.45   \n",
       "\n",
       "   C_10  Open  High   Volume  Close_shift  Shift_ratio  Result  \n",
       "0  1.54  1.25  1.30  23.4557         0.00      0.00000       0  \n",
       "1  1.50  1.29  1.30  30.0567         1.22      1.03279       1  \n",
       "2  1.56  1.30  1.32  31.1901         1.26      1.03175       1  \n",
       "3  1.47  1.30  1.35  35.0260         1.30      1.00000       0  \n",
       "4  1.42  1.42  1.44  43.4994         1.30      1.02308       1  \n",
       "5  1.41  1.39  1.44  14.4370         1.33      1.07519       1  \n",
       "6  1.42  1.48  1.51  34.4835         1.43      0.97203       0  \n",
       "7  1.42  1.51  1.52  13.5308         1.39      1.06475       1  \n",
       "8  1.45  1.53  1.54  22.8243         1.48      1.02027       1  \n",
       "9  1.35  1.53  1.58  27.3972         1.51      1.01325       1  "
      ]
     },
     "execution_count": 219,
     "metadata": {},
     "output_type": "execute_result"
    }
   ],
   "source": [
    "window = 1\n",
    "gap = 1.01\n",
    "df[\"Close_shift\"] = df[\"Close\"].shift(window)\n",
    "df[\"Shift_ratio\"] = round(df[\"Close\"] / df[\"Close_shift\"],5)\n",
    "df[\"Result\"] = 1*(df[\"Shift_ratio\"] >= gap)\n",
    "df.fillna(0, inplace=True)\n",
    "df.head(10)"
   ]
  },
  {
   "cell_type": "code",
   "execution_count": 220,
   "metadata": {
    "collapsed": false,
    "scrolled": true
   },
   "outputs": [
    {
     "name": "stdout",
     "output_type": "stream",
     "text": [
      "243\n",
      "262\n"
     ]
    }
   ],
   "source": [
    "print(df[df.Result == 1].Result.count())\n",
    "print(df[df.Result == 0].Result.count())"
   ]
  },
  {
   "cell_type": "code",
   "execution_count": 221,
   "metadata": {
    "collapsed": false
   },
   "outputs": [],
   "source": [
    "col_names = np.array(df.columns)\n",
    "# print(df[np.delete(col_names,[1,2,5,7])])\n",
    "X = df[np.delete(col_names,[0,8,9,10])]\n",
    "y = df[\"Result\"]\n",
    "features_corr_label = df.corr()['Result'].tolist()\n",
    "features = features_corr_label[:-1]\n",
    "X_train, X_test, y_train, y_test = train_test_split(X, y, train_size=0.8, random_state=0)"
   ]
  },
  {
   "cell_type": "code",
   "execution_count": 222,
   "metadata": {
    "collapsed": false
   },
   "outputs": [
    {
     "data": {
      "text/plain": [
       "RandomForestClassifier(bootstrap=True, class_weight=None, criterion='gini',\n",
       "            max_depth=None, max_features='auto', max_leaf_nodes=None,\n",
       "            min_impurity_split=1e-07, min_samples_leaf=1,\n",
       "            min_samples_split=2, min_weight_fraction_leaf=0.0,\n",
       "            n_estimators=10, n_jobs=1, oob_score=False, random_state=None,\n",
       "            verbose=0, warm_start=False)"
      ]
     },
     "execution_count": 222,
     "metadata": {},
     "output_type": "execute_result"
    }
   ],
   "source": [
    "from sklearn.ensemble import RandomForestClassifier\n",
    "model = RandomForestClassifier()\n",
    "model.fit(X_train,y_train)"
   ]
  },
  {
   "cell_type": "code",
   "execution_count": 223,
   "metadata": {
    "collapsed": false
   },
   "outputs": [
    {
     "name": "stdout",
     "output_type": "stream",
     "text": [
      "['Date' 'Close' 'C_1' 'C_2' 'C_3' 'C_4' 'C_5' 'C_6' 'C_7' 'C_8' 'C_9'\n",
      " 'C_10' 'Open' 'High' 'Volume' 'Close_shift' 'Shift_ratio' 'Result']\n",
      "             importance\n",
      "feature                \n",
      "Shift_ratio       0.681\n",
      "Result            0.250\n",
      "High              0.012\n",
      "Volume            0.010\n",
      "Open              0.009\n",
      "Close             0.007\n",
      "C_4               0.007\n",
      "C_6               0.007\n",
      "C_5               0.005\n",
      "Close_shift       0.005\n",
      "C_1               0.003\n",
      "C_2               0.002\n",
      "C_10              0.002\n",
      "C_3               0.000\n"
     ]
    },
    {
     "data": {
      "text/plain": [
       "<matplotlib.axes._subplots.AxesSubplot at 0x19b76268240>"
      ]
     },
     "execution_count": 223,
     "metadata": {},
     "output_type": "execute_result"
    }
   ],
   "source": [
    "print(col_names)\n",
    "rf = model.feature_importances_\n",
    "#show to plot importances\n",
    "importances = pd.DataFrame({'feature':X.columns,'importance':np.round(model.feature_importances_,3)})\n",
    "importances = importances.sort_values('importance',ascending=False).set_index('feature')\n",
    "print(importances)\n",
    "importances.plot.bar()"
   ]
  },
  {
   "cell_type": "code",
   "execution_count": 224,
   "metadata": {
    "collapsed": false
   },
   "outputs": [
    {
     "name": "stdout",
     "output_type": "stream",
     "text": [
      "1.0\n",
      "1.0\n",
      "[[48  0]\n",
      " [ 0 53]]\n"
     ]
    }
   ],
   "source": [
    "from sklearn.metrics import f1_score\n",
    "pred = model.predict(X_test)\n",
    "print(accuracy_score(y_test,pred))\n",
    "print(f1_score(y_test, pred, average='binary'))\n",
    "print(confusion_matrix(y_test, pred))\n",
    "rf_proba = model.predict_proba(X_test)[:,][:,0]"
   ]
  },
  {
   "cell_type": "code",
   "execution_count": 225,
   "metadata": {
    "collapsed": false
   },
   "outputs": [
    {
     "data": {
      "text/plain": [
       "GradientBoostingClassifier(criterion='friedman_mse', init=None,\n",
       "              learning_rate=0.1, loss='deviance', max_depth=3,\n",
       "              max_features=None, max_leaf_nodes=None,\n",
       "              min_impurity_split=1e-07, min_samples_leaf=1,\n",
       "              min_samples_split=2, min_weight_fraction_leaf=0.0,\n",
       "              n_estimators=100, presort='auto', random_state=None,\n",
       "              subsample=1.0, verbose=0, warm_start=False)"
      ]
     },
     "execution_count": 225,
     "metadata": {},
     "output_type": "execute_result"
    }
   ],
   "source": [
    "gbm_model = GradientBoostingClassifier()\n",
    "gbm_model.fit(X_train,y_train)"
   ]
  },
  {
   "cell_type": "code",
   "execution_count": 226,
   "metadata": {
    "collapsed": false
   },
   "outputs": [
    {
     "name": "stdout",
     "output_type": "stream",
     "text": [
      "1.0\n",
      "1.0\n",
      "[[48  0]\n",
      " [ 0 53]]\n"
     ]
    }
   ],
   "source": [
    "pred = gbm_model.predict(X_test)\n",
    "print(accuracy_score(y_test,pred))\n",
    "print(f1_score(y_test, pred, average='binary'))\n",
    "print(confusion_matrix(y_test, pred))\n",
    "gbm_proba = gbm_model.predict_proba(X_test)[:,][:,0]"
   ]
  },
  {
   "cell_type": "code",
   "execution_count": 227,
   "metadata": {
    "collapsed": false
   },
   "outputs": [],
   "source": [
    "# from sklearn import svm\n",
    "# param_test1 = {'C':[x for x in range(1,201,50)],'gamma':[0.01,0.005,0.001]}\n",
    "# # svm_model = GridSearchCV(estimator = svm.SVC(kernel='linear', probability=True),param_grid = param_test1, scoring='roc_auc',n_jobs=4,iid=False, cv=5)\n",
    "# svm_model = svm.SVC(kernel='linear', C=1, gamma=0.01, probability=True) \n",
    "# svm_model.fit(X_train,y_train)\n",
    "# # print([print(x) for x in svm_model.grid_scores_])\n",
    "# # print(svm_model.best_params_)\n",
    "# # print(svm_model.best_score_)"
   ]
  },
  {
   "cell_type": "code",
   "execution_count": 228,
   "metadata": {
    "collapsed": false,
    "scrolled": true
   },
   "outputs": [],
   "source": [
    "# pred = svm_model.predict(X_test)\n",
    "# print(accuracy_score(y_test,pred))\n",
    "# print(f1_score(y_test, pred, average='binary'))\n",
    "# print(confusion_matrix(y_test, pred))\n",
    "# svm_proba = svm_model.predict_proba(X_test)[:,][:,0]"
   ]
  },
  {
   "cell_type": "code",
   "execution_count": 229,
   "metadata": {
    "collapsed": false
   },
   "outputs": [
    {
     "data": {
      "text/plain": [
       "LogisticRegression(C=1.0, class_weight=None, dual=False, fit_intercept=True,\n",
       "          intercept_scaling=1, max_iter=100, multi_class='ovr', n_jobs=1,\n",
       "          penalty='l2', random_state=None, solver='liblinear', tol=0.0001,\n",
       "          verbose=0, warm_start=False)"
      ]
     },
     "execution_count": 229,
     "metadata": {},
     "output_type": "execute_result"
    }
   ],
   "source": [
    "from sklearn.linear_model import LogisticRegression\n",
    "lr_model = LogisticRegression()\n",
    "lr_model.fit(X_train, y_train)"
   ]
  },
  {
   "cell_type": "code",
   "execution_count": 230,
   "metadata": {
    "collapsed": false
   },
   "outputs": [
    {
     "name": "stdout",
     "output_type": "stream",
     "text": [
      "1.0\n",
      "1.0\n",
      "[[48  0]\n",
      " [ 0 53]]\n"
     ]
    }
   ],
   "source": [
    "pred = lr_model.predict(X_test)\n",
    "print(accuracy_score(y_test,pred))\n",
    "print(f1_score(y_test, pred, average='binary'))\n",
    "print(confusion_matrix(y_test, pred))\n",
    "lr_proba = lr_model.predict_proba(X_test)[:,][:,0]"
   ]
  },
  {
   "cell_type": "code",
   "execution_count": 231,
   "metadata": {
    "collapsed": false
   },
   "outputs": [
    {
     "data": {
      "text/plain": [
       "GaussianNB(priors=None)"
      ]
     },
     "execution_count": 231,
     "metadata": {},
     "output_type": "execute_result"
    }
   ],
   "source": [
    "from sklearn.naive_bayes import GaussianNB\n",
    "nb_model= GaussianNB()\n",
    "nb_model.fit(X_train, y_train)"
   ]
  },
  {
   "cell_type": "code",
   "execution_count": 232,
   "metadata": {
    "collapsed": false,
    "scrolled": true
   },
   "outputs": [
    {
     "name": "stdout",
     "output_type": "stream",
     "text": [
      "1.0\n",
      "1.0\n",
      "[[48  0]\n",
      " [ 0 53]]\n"
     ]
    }
   ],
   "source": [
    "pred = nb_model.predict(X_test)\n",
    "print(accuracy_score(y_test,pred))\n",
    "print(f1_score(y_test, pred, average='binary'))\n",
    "print(confusion_matrix(y_test, pred))\n",
    "nb_proba = nb_model.predict_proba(X_test)[:,][:,0]"
   ]
  },
  {
   "cell_type": "code",
   "execution_count": 233,
   "metadata": {
    "collapsed": false,
    "scrolled": true
   },
   "outputs": [
    {
     "data": {
      "text/html": [
       "<div>\n",
       "<table border=\"1\" class=\"dataframe\">\n",
       "  <thead>\n",
       "    <tr style=\"text-align: right;\">\n",
       "      <th></th>\n",
       "      <th>rf</th>\n",
       "      <th>gbm</th>\n",
       "      <th>lr</th>\n",
       "      <th>nb</th>\n",
       "    </tr>\n",
       "  </thead>\n",
       "  <tbody>\n",
       "    <tr>\n",
       "      <th>0</th>\n",
       "      <td>1.0</td>\n",
       "      <td>0.999723</td>\n",
       "      <td>0.961100</td>\n",
       "      <td>1.0</td>\n",
       "    </tr>\n",
       "    <tr>\n",
       "      <th>1</th>\n",
       "      <td>0.0</td>\n",
       "      <td>0.000312</td>\n",
       "      <td>0.032855</td>\n",
       "      <td>0.0</td>\n",
       "    </tr>\n",
       "    <tr>\n",
       "      <th>2</th>\n",
       "      <td>0.0</td>\n",
       "      <td>0.000312</td>\n",
       "      <td>0.048158</td>\n",
       "      <td>0.0</td>\n",
       "    </tr>\n",
       "    <tr>\n",
       "      <th>3</th>\n",
       "      <td>0.9</td>\n",
       "      <td>0.999723</td>\n",
       "      <td>0.968317</td>\n",
       "      <td>1.0</td>\n",
       "    </tr>\n",
       "    <tr>\n",
       "      <th>4</th>\n",
       "      <td>0.0</td>\n",
       "      <td>0.000312</td>\n",
       "      <td>0.035393</td>\n",
       "      <td>0.0</td>\n",
       "    </tr>\n",
       "  </tbody>\n",
       "</table>\n",
       "</div>"
      ],
      "text/plain": [
       "    rf       gbm        lr   nb\n",
       "0  1.0  0.999723  0.961100  1.0\n",
       "1  0.0  0.000312  0.032855  0.0\n",
       "2  0.0  0.000312  0.048158  0.0\n",
       "3  0.9  0.999723  0.968317  1.0\n",
       "4  0.0  0.000312  0.035393  0.0"
      ]
     },
     "execution_count": 233,
     "metadata": {},
     "output_type": "execute_result"
    }
   ],
   "source": [
    "test_res_df = pd.DataFrame()\n",
    "test_res_df[\"rf\"] = rf_proba\n",
    "test_res_df[\"gbm\"] = gbm_proba\n",
    "# test_res_df[\"svm\"] = svm_proba\n",
    "test_res_df[\"lr\"] = lr_proba\n",
    "test_res_df[\"nb\"] = nb_proba\n",
    "test_res_df.head()\n",
    "\n"
   ]
  },
  {
   "cell_type": "code",
   "execution_count": 234,
   "metadata": {
    "collapsed": false,
    "scrolled": true
   },
   "outputs": [
    {
     "data": {
      "text/plain": [
       "GradientBoostingClassifier(criterion='friedman_mse', init=None,\n",
       "              learning_rate=0.1, loss='deviance', max_depth=3,\n",
       "              max_features=None, max_leaf_nodes=None,\n",
       "              min_impurity_split=1e-07, min_samples_leaf=1,\n",
       "              min_samples_split=2, min_weight_fraction_leaf=0.0,\n",
       "              n_estimators=100, presort='auto', random_state=None,\n",
       "              subsample=1.0, verbose=0, warm_start=False)"
      ]
     },
     "execution_count": 234,
     "metadata": {},
     "output_type": "execute_result"
    }
   ],
   "source": [
    "X_tr, X_te, y_tr, y_te = train_test_split(test_res_df, y_test, train_size=0.5, random_state=0)\n",
    "param_test1 = {'n_estimators':[x for x in range(20,81,10)],'max_depth':[x for x in range(5,16,2)], 'min_samples_split':[x for x in range(200,1001,200)]}\n",
    "# test_res_model = GridSearchCV(estimator = GradientBoostingClassifier(learning_rate=0.01, min_samples_split=500,min_samples_leaf=50,max_depth=8,max_features='sqrt',subsample=0.8,random_state=0), \n",
    "# param_grid = param_test1, scoring='roc_auc',n_jobs=4,iid=False, cv=5)\n",
    "test_res_model = GradientBoostingClassifier(learning_rate=0.01, min_samples_split=500,min_samples_leaf=50,max_depth=8,max_features='sqrt',subsample=0.8,random_state=0,n_estimators=20)\n",
    "test_res_model = GradientBoostingClassifier()\n",
    "test_res_model.fit(X_tr,y_tr)\n",
    "# print([print(x) for x in test_res_model.grid_scores_])\n",
    "# print(test_res_model.best_params_)\n",
    "# print(test_res_model.best_score_)"
   ]
  },
  {
   "cell_type": "code",
   "execution_count": 235,
   "metadata": {
    "collapsed": false,
    "scrolled": true
   },
   "outputs": [
    {
     "name": "stdout",
     "output_type": "stream",
     "text": [
      "         importance\n",
      "feature            \n",
      "rf             0.21\n",
      "gbm            0.19\n",
      "lr             0.17\n",
      "nb             0.17\n"
     ]
    }
   ],
   "source": [
    "rf_res = test_res_model.feature_importances_\n",
    "#show to plot importances\n",
    "importances = pd.DataFrame({'feature':test_res_df.columns,'importance':np.round(test_res_model.feature_importances_,3)})\n",
    "importances = importances.sort_values('importance',ascending=False).set_index('feature')\n",
    "print(importances)"
   ]
  },
  {
   "cell_type": "code",
   "execution_count": 236,
   "metadata": {
    "collapsed": false
   },
   "outputs": [
    {
     "name": "stdout",
     "output_type": "stream",
     "text": [
      "1.0\n",
      "1.0\n",
      "[[19  0]\n",
      " [ 0 32]]\n"
     ]
    }
   ],
   "source": [
    "pred_res = test_res_model.predict(X_te)\n",
    "print(accuracy_score(y_te,pred_res))\n",
    "print(f1_score(y_te, pred_res, average='binary'))\n",
    "print(confusion_matrix(y_te, pred_res))"
   ]
  },
  {
   "cell_type": "code",
   "execution_count": 237,
   "metadata": {
    "collapsed": false
   },
   "outputs": [
    {
     "name": "stdout",
     "output_type": "stream",
     "text": [
      "Date           3-Aug-15\n",
      "Close              3.18\n",
      "C_1                1.22\n",
      "C_2                1.26\n",
      "C_3                 1.3\n",
      "C_4                 1.3\n",
      "C_5                1.33\n",
      "C_6                1.43\n",
      "C_7                1.39\n",
      "C_8                1.48\n",
      "C_9                1.51\n",
      "C_10               1.53\n",
      "Open               3.48\n",
      "High               3.48\n",
      "Volume           1.6248\n",
      "Close_shift        3.23\n",
      "Shift_ratio     0.98452\n",
      "Result                0\n",
      "Name: 504, dtype: object\n",
      "[[  9.99722606e-01   2.77393759e-04]]\n",
      "[0]\n"
     ]
    },
    {
     "name": "stderr",
     "output_type": "stream",
     "text": [
      "C:\\Program Files\\Anaconda3\\lib\\site-packages\\sklearn\\utils\\validation.py:395: DeprecationWarning: Passing 1d arrays as data is deprecated in 0.17 and will raise ValueError in 0.19. Reshape your data either using X.reshape(-1, 1) if your data has a single feature or X.reshape(1, -1) if it contains a single sample.\n",
      "  DeprecationWarning)\n",
      "C:\\Program Files\\Anaconda3\\lib\\site-packages\\sklearn\\utils\\validation.py:395: DeprecationWarning: Passing 1d arrays as data is deprecated in 0.17 and will raise ValueError in 0.19. Reshape your data either using X.reshape(-1, 1) if your data has a single feature or X.reshape(1, -1) if it contains a single sample.\n",
      "  DeprecationWarning)\n"
     ]
    }
   ],
   "source": [
    "n = -1\n",
    "print(df.iloc[n])\n",
    "pred_res = gbm_model.predict_proba(X.iloc[n])\n",
    "print(pred_res)\n",
    "print(gbm_model.predict(X.iloc[n]))"
   ]
  }
 ],
 "metadata": {
  "anaconda-cloud": {},
  "kernelspec": {
   "display_name": "Python [conda root]",
   "language": "python",
   "name": "conda-root-py"
  },
  "language_info": {
   "codemirror_mode": {
    "name": "ipython",
    "version": 3
   },
   "file_extension": ".py",
   "mimetype": "text/x-python",
   "name": "python",
   "nbconvert_exporter": "python",
   "pygments_lexer": "ipython3",
   "version": "3.5.2"
  }
 },
 "nbformat": 4,
 "nbformat_minor": 2
}
